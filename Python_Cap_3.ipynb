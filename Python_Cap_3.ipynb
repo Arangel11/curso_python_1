{
 "cells": [
  {
   "cell_type": "markdown",
   "metadata": {},
   "source": [
    "## If  \n",
    "Ejecuta un bloque de código solo si se cumple una condición determinada."
   ]
  },
  {
   "cell_type": "code",
   "execution_count": 25,
   "metadata": {},
   "outputs": [
    {
     "name": "stdout",
     "output_type": "stream",
     "text": [
      "x es mayor o igual a 5\n"
     ]
    }
   ],
   "source": [
    "x = 10\n",
    "\n",
    "if x >= 5:\n",
    "    print('x es mayor o igual a 5')"
   ]
  },
  {
   "cell_type": "markdown",
   "metadata": {},
   "source": [
    "### Ejercicios"
   ]
  },
  {
   "cell_type": "markdown",
   "metadata": {},
   "source": [
    "Asigna un valor numérico a la variable `x`, imprime el mensaje \"x es mayor a diez\" si el numero asignado es mayor a diez."
   ]
  },
  {
   "cell_type": "raw",
   "metadata": {},
   "source": []
  },
  {
   "cell_type": "markdown",
   "metadata": {},
   "source": [
    "Asigna dos cadenas a las variables `cadena_1` `cadena_2` e imprime el mensaje \"Son iguales\" si ambas cadenas son iguales"
   ]
  },
  {
   "cell_type": "code",
   "execution_count": null,
   "metadata": {},
   "outputs": [],
   "source": []
  },
  {
   "cell_type": "markdown",
   "metadata": {},
   "source": [
    "Asigna dos cadenas a las variables `cadena_1` `cadena_2` e imprime el mensaje \"Son lo mismo\" si el contenido de ambas cadenas es el mismo ignorando diferencias de mayusculas y minusculas."
   ]
  },
  {
   "cell_type": "code",
   "execution_count": null,
   "metadata": {},
   "outputs": [],
   "source": []
  },
  {
   "cell_type": "markdown",
   "metadata": {},
   "source": [
    "Asigna una cadena de un caracter a la variable `letra` e imprime el mensaje \"Es vocal\" si el caracter es una vocal. Para este ejercicio puedes usar `in` para revisar si una cadena está incluida en un objeto iterable."
   ]
  },
  {
   "cell_type": "code",
   "execution_count": null,
   "metadata": {},
   "outputs": [],
   "source": []
  },
  {
   "cell_type": "markdown",
   "metadata": {},
   "source": [
    "## Elif y else  \n",
    "En ocasiones nos interesa evaluar más de una expresión, en esos casos podemos hacer uso del `elif` para evaluar una condición adicional en caso de que la anterior (o anteriores) no se hayan cumplido. Además podemos incluir un `else` para incluir un bloque de código que se ejecutaría solo si ninguna de las condiciones fue cumplida."
   ]
  },
  {
   "cell_type": "code",
   "execution_count": 26,
   "metadata": {},
   "outputs": [
    {
     "name": "stdout",
     "output_type": "stream",
     "text": [
      "x es igual a 6\n"
     ]
    }
   ],
   "source": [
    "x = 6\n",
    "\n",
    "if x == 1:\n",
    "    print('x es igual a uno')\n",
    "    \n",
    "elif x == 2:\n",
    "    print('x es igual a dos')\n",
    "    \n",
    "elif x == 3:\n",
    "    print('x es igual a tres')\n",
    "    \n",
    "else:\n",
    "    print('x es igual a', x)"
   ]
  },
  {
   "cell_type": "markdown",
   "metadata": {},
   "source": [
    "### Ejercicios"
   ]
  },
  {
   "cell_type": "markdown",
   "metadata": {},
   "source": [
    "Asigna un valor numérico a la variable `x` e imprime el mesaje \"el numero x es par\" o \"el numero x es impar\" sustituyendo el valor de x por el correspondiente."
   ]
  },
  {
   "cell_type": "code",
   "execution_count": null,
   "metadata": {},
   "outputs": [],
   "source": []
  },
  {
   "cell_type": "markdown",
   "metadata": {},
   "source": [
    "Genera una cadena i asignala a una variable, imprime la cadena en mayusculas si incluye la letra \"s\" y en minusculas si no la incluye."
   ]
  },
  {
   "cell_type": "code",
   "execution_count": null,
   "metadata": {},
   "outputs": [],
   "source": []
  },
  {
   "cell_type": "markdown",
   "metadata": {},
   "source": [
    "Crea una lista de n elementos y asignala a una variable. Si la lista está vacía imprime el mensaje \"la lista está vacía\", si contiene cinco o menos elementos imprimela, y si contiene mas imprime el mensaje \"Esos son demasiados elementos\""
   ]
  },
  {
   "cell_type": "code",
   "execution_count": null,
   "metadata": {},
   "outputs": [],
   "source": []
  },
  {
   "cell_type": "markdown",
   "metadata": {},
   "source": [
    "## For\n",
    "Se utiliza para ejecutar un bloque de código \"n\" número de veces a partir del número de elementos en un objeto iterable (como una lista). Se asigna un álias para hacer referencia al valor del elemento en cada una de las iteraciones."
   ]
  },
  {
   "cell_type": "code",
   "execution_count": 27,
   "metadata": {},
   "outputs": [
    {
     "name": "stdout",
     "output_type": "stream",
     "text": [
      "Hola Hugo\n",
      "Hola Paco\n",
      "Hola Luis\n"
     ]
    }
   ],
   "source": [
    "for nombre in ['Hugo', 'Paco', 'Luis']:\n",
    "    print('Hola ' + nombre)"
   ]
  },
  {
   "cell_type": "code",
   "execution_count": 28,
   "metadata": {},
   "outputs": [
    {
     "name": "stdout",
     "output_type": "stream",
     "text": [
      "El valor de x es 0\n",
      "El valor de x es 1\n",
      "El valor de x es 2\n",
      "El valor de x es 3\n",
      "El valor de x es 4\n"
     ]
    }
   ],
   "source": [
    "for x in range(5):\n",
    "    print('El valor de x es', x)"
   ]
  },
  {
   "cell_type": "markdown",
   "metadata": {},
   "source": [
    "### Ejercicios"
   ]
  },
  {
   "cell_type": "markdown",
   "metadata": {},
   "source": [
    "Crea una lista con el nombre de los siete día de la semana escritos en minúsculas. Asignala a la variable `semana`"
   ]
  },
  {
   "cell_type": "code",
   "execution_count": null,
   "metadata": {},
   "outputs": [],
   "source": []
  },
  {
   "cell_type": "markdown",
   "metadata": {},
   "source": [
    "Itera la lista `semana` e imprime el mensaje \"Me gustan los \" seguido del día de la semana correspondiente para cada iteración."
   ]
  },
  {
   "cell_type": "code",
   "execution_count": null,
   "metadata": {},
   "outputs": [],
   "source": []
  },
  {
   "cell_type": "markdown",
   "metadata": {},
   "source": [
    "Itera la lista `semana` e imprime los días que terminan en la letra \"s\""
   ]
  },
  {
   "cell_type": "code",
   "execution_count": null,
   "metadata": {},
   "outputs": [],
   "source": []
  },
  {
   "cell_type": "markdown",
   "metadata": {},
   "source": [
    "Crea una cadena con un texto de tu elección. Imprime el mensaje \"Esta cadena solo tiene una palabra\" si solo tiene una palabra o \"Esta cadena tiene x palabras\" si tiene mas (sustituye x por el numero de palabras). Para este ejercicio puedes usar el metodo split de las cadenas."
   ]
  },
  {
   "cell_type": "code",
   "execution_count": null,
   "metadata": {},
   "outputs": [],
   "source": []
  },
  {
   "cell_type": "markdown",
   "metadata": {},
   "source": [
    "Crea una cadena con tu nombre y asignala a la variable `nombre`, itera esta variable e imprimela nuevamente cambiando las vocales a minusculas y las consonantes a mayusculas."
   ]
  },
  {
   "cell_type": "code",
   "execution_count": null,
   "metadata": {},
   "outputs": [],
   "source": []
  },
  {
   "cell_type": "markdown",
   "metadata": {},
   "source": [
    "## Range"
   ]
  },
  {
   "cell_type": "markdown",
   "metadata": {},
   "source": [
    "La función range genera una secuencia de números a partir de los parámetros que reciba.  \n",
    "\n",
    "En su forma más básica esta función recibe un solo valor entero y genera un rango que va del cero hasta el valor ingresado menos uno."
   ]
  },
  {
   "cell_type": "markdown",
   "metadata": {},
   "source": [
    "### Ejercicios"
   ]
  },
  {
   "cell_type": "markdown",
   "metadata": {},
   "source": [
    "Usando los métodos `list()`  y `range()` genera una lista con los números del 0 al 9."
   ]
  },
  {
   "cell_type": "code",
   "execution_count": null,
   "metadata": {},
   "outputs": [],
   "source": []
  },
  {
   "cell_type": "markdown",
   "metadata": {},
   "source": [
    "Usando los métodos `list()`  y `range()` genera una lista con los números del 10 al 15."
   ]
  },
  {
   "cell_type": "code",
   "execution_count": null,
   "metadata": {},
   "outputs": [],
   "source": []
  },
  {
   "cell_type": "markdown",
   "metadata": {},
   "source": [
    "Usando `for` y un rango imprime el mensaje \"¡Hola mundo!\" cinco veces."
   ]
  },
  {
   "cell_type": "code",
   "execution_count": null,
   "metadata": {},
   "outputs": [],
   "source": []
  },
  {
   "cell_type": "markdown",
   "metadata": {},
   "source": [
    "Usando `for` y un rango, imprime los números enteros multoplos de 17 que están entre el o y el 100."
   ]
  },
  {
   "cell_type": "code",
   "execution_count": null,
   "metadata": {},
   "outputs": [],
   "source": []
  },
  {
   "cell_type": "markdown",
   "metadata": {},
   "source": [
    "## While\n",
    "\n",
    "Se utiliaza para ejecutar repetidamente un bloque de código mientras se cumpla una condicion determinada.  \n",
    "\n",
    "Nota: Es importante tener cuidado de que la condición que estamos evaluando en algun momento se evalue como falso, de lo contrario el bloque de código se ejecutará en un ciclo infinito."
   ]
  },
  {
   "cell_type": "code",
   "execution_count": 29,
   "metadata": {},
   "outputs": [
    {
     "name": "stdout",
     "output_type": "stream",
     "text": [
      "0 al cuadrado es menor que 10\n",
      "1 al cuadrado es menor que 10\n",
      "2 al cuadrado es menor que 10\n",
      "3 al cuadrado es menor que 10\n"
     ]
    }
   ],
   "source": [
    "i = 0\n",
    "\n",
    "while i**2 < 10:\n",
    "    print(i, 'al cuadrado es menor que 10')\n",
    "    i = i + 1      # Esto evita que entremos en un ciclo infinito   "
   ]
  },
  {
   "cell_type": "markdown",
   "metadata": {},
   "source": [
    "### Ejercicios"
   ]
  },
  {
   "cell_type": "markdown",
   "metadata": {},
   "source": [
    "Usando un `while` y una variable de contro itera diez veces imprimiento el siguiente mensaje: \"n elefantes se columpiaban sobre la tela de una araña\", sustitulle n por el valor de la variable de control (iniciando en 1)"
   ]
  },
  {
   "cell_type": "code",
   "execution_count": null,
   "metadata": {},
   "outputs": [],
   "source": []
  },
  {
   "cell_type": "markdown",
   "metadata": {},
   "source": [
    "Uando un while imprime todos los divisores de un número."
   ]
  },
  {
   "cell_type": "code",
   "execution_count": null,
   "metadata": {},
   "outputs": [],
   "source": []
  },
  {
   "cell_type": "markdown",
   "metadata": {},
   "source": [
    "## Break"
   ]
  },
  {
   "cell_type": "markdown",
   "metadata": {},
   "source": [
    "`break` nos permite interrimpur un ciclo `for` o `while` y continuar con la ejecución del resto del código."
   ]
  },
  {
   "cell_type": "markdown",
   "metadata": {},
   "source": [
    "### Ejercicios"
   ]
  },
  {
   "cell_type": "markdown",
   "metadata": {},
   "source": [
    "Usando un ciclo `while` y usando la función `input()` crea un ciclo que solicite caracteres y los concatene hasta recibir una cedena vacía. Imprime la cadena resultante."
   ]
  },
  {
   "cell_type": "code",
   "execution_count": null,
   "metadata": {},
   "outputs": [],
   "source": []
  },
  {
   "cell_type": "markdown",
   "metadata": {},
   "source": [
    "## Continue"
   ]
  },
  {
   "cell_type": "markdown",
   "metadata": {},
   "source": [
    "'continue' nos permite interrumpir una iteración de un ciclo for o while, evitando que se corra el resto del codigo de esa iteración y continuando con la siguiente."
   ]
  },
  {
   "cell_type": "markdown",
   "metadata": {},
   "source": [
    "### Ejemplos"
   ]
  },
  {
   "cell_type": "markdown",
   "metadata": {},
   "source": [
    "Crea un ciclo que itere sobre una cadena y genere una segunda cadena similar a la anterior pero eliminando las vocales."
   ]
  },
  {
   "cell_type": "code",
   "execution_count": null,
   "metadata": {},
   "outputs": [],
   "source": []
  },
  {
   "cell_type": "markdown",
   "metadata": {},
   "source": [
    "## Ejercicio extra"
   ]
  },
  {
   "cell_type": "markdown",
   "metadata": {},
   "source": [
    "Genera un ciclo que haga lo siguiente:\n",
    "* inicie con el valor 0\n",
    "* En cada iteración solicite una cadena con el formato \"operación número\"\n",
    "* Separe la cadena en una lista usando la función `split()`\n",
    "* Si el valor de la operación es \"suma\" debera de sumar el numero al inicial o al del ciclo anterior (segun sea el caso)\n",
    "* si el valor de la operación es resta, deberá de restar el valor al inicial o al del ciclo anterior.\n",
    "* Si el texto de para la operqació es diferente a lo esperado, deberá de mandar un mensaje de error y colver a solicitar la cadena.\n",
    "* Para salir del ciclo se deberá de introducir una cadena vacía."
   ]
  },
  {
   "cell_type": "code",
   "execution_count": null,
   "metadata": {},
   "outputs": [],
   "source": []
  }
 ],
 "metadata": {
  "kernelspec": {
   "display_name": "Python 3",
   "language": "python",
   "name": "python3"
  },
  "language_info": {
   "codemirror_mode": {
    "name": "ipython",
    "version": 3
   },
   "file_extension": ".py",
   "mimetype": "text/x-python",
   "name": "python",
   "nbconvert_exporter": "python",
   "pygments_lexer": "ipython3",
   "version": "3.7.3"
  }
 },
 "nbformat": 4,
 "nbformat_minor": 2
}
