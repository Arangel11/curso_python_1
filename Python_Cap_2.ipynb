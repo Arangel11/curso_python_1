{
 "cells": [
  {
   "cell_type": "markdown",
   "metadata": {},
   "source": [
    "## Cadenas"
   ]
  },
  {
   "cell_type": "markdown",
   "metadata": {},
   "source": [
    "Las cadenas se crean al introducir un texto rodeado por comillas (ya sean dobles o sencillas).  \n",
    "\n",
    "Podemos asignarlas a una variable o imprimirlas en pantalla usando la función `print()` de python.  "
   ]
  },
  {
   "cell_type": "code",
   "execution_count": 2,
   "metadata": {},
   "outputs": [
    {
     "name": "stdout",
     "output_type": "stream",
     "text": [
      "Hola Mundo\n"
     ]
    }
   ],
   "source": [
    "cadena = \"Hola Mundo\"\n",
    "print(cadena)"
   ]
  },
  {
   "cell_type": "code",
   "execution_count": 3,
   "metadata": {},
   "outputs": [
    {
     "name": "stdout",
     "output_type": "stream",
     "text": [
      "Hola Mundo\n"
     ]
    }
   ],
   "source": [
    "print('Hola Mundo')"
   ]
  },
  {
   "cell_type": "markdown",
   "metadata": {},
   "source": [
    "***Ejercicios***"
   ]
  },
  {
   "cell_type": "markdown",
   "metadata": {},
   "source": [
    "Imprime una cadena con el siguiente texto usando comillas dobles.  \n",
    "```\n",
    "Esta es una cadena\n",
    "```"
   ]
  },
  {
   "cell_type": "code",
   "execution_count": null,
   "metadata": {},
   "outputs": [],
   "source": []
  },
  {
   "cell_type": "markdown",
   "metadata": {},
   "source": [
    "Imprime una cadena con el siguiente texto usando comillas sencillas.\n",
    "```\n",
    "Esta tambien es una cadena\n",
    "```"
   ]
  },
  {
   "cell_type": "code",
   "execution_count": null,
   "metadata": {},
   "outputs": [],
   "source": []
  },
  {
   "cell_type": "markdown",
   "metadata": {},
   "source": [
    "Imprime el siguiente texto:  \n",
    "```\n",
    "Mario dice \"Hola\"\n",
    "```"
   ]
  },
  {
   "cell_type": "code",
   "execution_count": null,
   "metadata": {},
   "outputs": [],
   "source": []
  },
  {
   "cell_type": "markdown",
   "metadata": {},
   "source": [
    "Imprime el siguiente texto:  \n",
    "```\n",
    "Let's learn python!\n",
    "```"
   ]
  },
  {
   "cell_type": "code",
   "execution_count": null,
   "metadata": {},
   "outputs": [],
   "source": []
  },
  {
   "cell_type": "markdown",
   "metadata": {},
   "source": [
    "## Caracteres especiales"
   ]
  },
  {
   "cell_type": "markdown",
   "metadata": {},
   "source": [
    "Podemos introducir caracteres especiales en una cadena usando `\"\\\"` como caracter de escape. algunos de los usos más comunes serían:  \n",
    "* `\\t`: tabulador  \n",
    "* `\\n`: salto de linea  \n",
    "* `\\\\`: escapa el caracter `\"\\\"`  \n",
    "* `\\'`: escapa una comilla sencilla  \n",
    "* `\\\"`: escapa una comilla doble  \n",
    "\n",
    "Ejemplo:"
   ]
  },
  {
   "cell_type": "code",
   "execution_count": 3,
   "metadata": {},
   "outputs": [
    {
     "name": "stdout",
     "output_type": "stream",
     "text": [
      "Este es un ejemplo:\n",
      "1.-\tUno\n",
      "2.-\tDos\n"
     ]
    }
   ],
   "source": [
    "print('Este es un ejemplo:\\n1.-\\tUno\\n2.-\\tDos')"
   ]
  },
  {
   "cell_type": "markdown",
   "metadata": {},
   "source": [
    "***Ejercicios***"
   ]
  },
  {
   "cell_type": "markdown",
   "metadata": {},
   "source": [
    "Imprime una cadena con el siguiente texto:  \n",
    "\n",
    "```\n",
    "Hola María,\n",
    "\n",
    "Espero te encuentres bien.\n",
    "```"
   ]
  },
  {
   "cell_type": "code",
   "execution_count": null,
   "metadata": {},
   "outputs": [],
   "source": []
  },
  {
   "cell_type": "markdown",
   "metadata": {},
   "source": [
    "Imprime la siguiente cadena:  \n",
    "\n",
    "```\n",
    "Manzanas    10\n",
    "Naranjas    8\n",
    "```"
   ]
  },
  {
   "cell_type": "code",
   "execution_count": null,
   "metadata": {},
   "outputs": [],
   "source": []
  },
  {
   "cell_type": "markdown",
   "metadata": {},
   "source": [
    "Imprime la siguiente cadena:  \n",
    "```\n",
    "\\tmp\\nuevo_proyecto\\presupuesto.csv\n",
    "```"
   ]
  },
  {
   "cell_type": "code",
   "execution_count": null,
   "metadata": {},
   "outputs": [],
   "source": []
  },
  {
   "cell_type": "markdown",
   "metadata": {},
   "source": [
    "Imprime la siguiente cadena:  \n",
    "```\n",
    "Pedro dijo \"Let's learn python\"\n",
    "```"
   ]
  },
  {
   "cell_type": "code",
   "execution_count": null,
   "metadata": {},
   "outputs": [],
   "source": []
  },
  {
   "cell_type": "markdown",
   "metadata": {},
   "source": [
    "## Operaciones con cadenas"
   ]
  },
  {
   "cell_type": "markdown",
   "metadata": {},
   "source": [
    "El operador de suma sirve para concatenar cadenas"
   ]
  },
  {
   "cell_type": "code",
   "execution_count": 4,
   "metadata": {},
   "outputs": [
    {
     "name": "stdout",
     "output_type": "stream",
     "text": [
      "suma_de_cadenas\n"
     ]
    }
   ],
   "source": [
    "print(\"suma\" + \"_de_\" + \"cadenas\")"
   ]
  },
  {
   "cell_type": "markdown",
   "metadata": {},
   "source": [
    "El de multiplicación repite una misma cadena \"n\" número de veces"
   ]
  },
  {
   "cell_type": "code",
   "execution_count": 5,
   "metadata": {},
   "outputs": [
    {
     "name": "stdout",
     "output_type": "stream",
     "text": [
      "multiplicacion_multiplicacion_multiplicacion_\n"
     ]
    }
   ],
   "source": [
    "print('multiplicacion_' * 3)"
   ]
  },
  {
   "cell_type": "markdown",
   "metadata": {},
   "source": [
    "***Ejercicios***"
   ]
  },
  {
   "cell_type": "markdown",
   "metadata": {},
   "source": [
    "Crea una cadena con tu nombre y otra con tu apellido, asignalas a las variables `nombre` y `apellido`. Concatenalas e imprime el resultado usando `print()`"
   ]
  },
  {
   "cell_type": "code",
   "execution_count": null,
   "metadata": {},
   "outputs": [],
   "source": []
  },
  {
   "cell_type": "markdown",
   "metadata": {},
   "source": [
    "Crea una cadena y asignala a la variable `password`. Usando la función `len()` imprime un asterisco (`*`) por cada caracter en la cadena `password`"
   ]
  },
  {
   "cell_type": "code",
   "execution_count": null,
   "metadata": {},
   "outputs": [],
   "source": []
  },
  {
   "cell_type": "markdown",
   "metadata": {},
   "source": [
    "Imprime la siguiente cadena (puedes usar distintas para generar cada sección de la cadena):  \n",
    "```\n",
    "--------------------\n",
    "Tabla de resultados\n",
    "--------------------\n",
    "0       0       0\n",
    "0       0       0\n",
    "0       0       0\n",
    "```"
   ]
  },
  {
   "cell_type": "code",
   "execution_count": null,
   "metadata": {},
   "outputs": [],
   "source": []
  },
  {
   "cell_type": "markdown",
   "metadata": {},
   "source": [
    "Crea un procedimiento para hacer una barra de progreso. El procedimiento deberá de: \n",
    "* Aceptar un número entre el 0 y 100\n",
    "* Imprimir el mensaje \"Progreso: __%\" con el porcentaje de avance.\n",
    "* En una línea nueva mostrar un número de simbolos de gato (#) igual a la cantidad ingresada.\n",
    "* Mostrar guiones suficientes para completar 100 caracteres en la misma linea.\n",
    "* Puedes agregar pipes (|) al inicio y final de la barra de progreso (opcional)  \n",
    "\n",
    "Ejemplo de la salida:  \n",
    "```\n",
    "Progreso: 90%\n",
    "|##########################################################################################----------|\n",
    "```"
   ]
  },
  {
   "cell_type": "code",
   "execution_count": null,
   "metadata": {},
   "outputs": [],
   "source": []
  },
  {
   "cell_type": "markdown",
   "metadata": {},
   "source": [
    "## Métodos importantes"
   ]
  },
  {
   "cell_type": "markdown",
   "metadata": {},
   "source": [
    "Además de poder aplicar estas operaciones. Los objetos de tipo cadena contienen métodos propios que facilitan realizar tareas de uso frecuente. Entre algunas de las más importantes están las siguientes:"
   ]
  },
  {
   "cell_type": "code",
   "execution_count": 49,
   "metadata": {},
   "outputs": [
    {
     "name": "stdout",
     "output_type": "stream",
     "text": [
      "upper: FOO BAR\n",
      "lower: foo bar\n",
      "title: Foo Bar\n",
      "replace: F__ bar\n"
     ]
    }
   ],
   "source": [
    "cadena = \"FOO bar\"\n",
    "\n",
    "print('upper: ' + cadena.upper() )\n",
    "print('lower: ' + cadena.lower() )\n",
    "print('title: ' + cadena.title() )\n",
    "print('replace: ' + cadena.replace('O', '_'))"
   ]
  },
  {
   "cell_type": "markdown",
   "metadata": {},
   "source": [
    "***Ejercicios***"
   ]
  },
  {
   "cell_type": "markdown",
   "metadata": {},
   "source": [
    "Crea dos cadenas, una con tu nombre y otra con tu apellido y asignalas a las variables `nombre` y `apellido`. Usa estas variables para contestar los siguientes ejercicios."
   ]
  },
  {
   "cell_type": "code",
   "execution_count": null,
   "metadata": {},
   "outputs": [],
   "source": []
  },
  {
   "cell_type": "markdown",
   "metadata": {},
   "source": [
    "Concatena las cadenas y con el metodo correcto imprimelas con el siguiente formato:\n",
    "```\n",
    "Nombre Apellido\n",
    "```"
   ]
  },
  {
   "cell_type": "code",
   "execution_count": null,
   "metadata": {},
   "outputs": [],
   "source": []
  },
  {
   "cell_type": "markdown",
   "metadata": {},
   "source": [
    "Concatena las cadenas y con el metodo correcto imprimelas con el siguiente formato:\n",
    "```\n",
    "NOMBRE_APELLIDO\n",
    "```"
   ]
  },
  {
   "cell_type": "code",
   "execution_count": null,
   "metadata": {},
   "outputs": [],
   "source": []
  },
  {
   "cell_type": "markdown",
   "metadata": {},
   "source": [
    "Concatena las cadenas y con el metodo correcto imprimelas con el siguiente formato:\n",
    "```\n",
    "nombre_apellido\n",
    "```"
   ]
  },
  {
   "cell_type": "code",
   "execution_count": null,
   "metadata": {},
   "outputs": [],
   "source": []
  },
  {
   "cell_type": "markdown",
   "metadata": {},
   "source": [
    "Usando la variable `plantilla` y el método `replace()` genera siguiente cadena:  \n",
    "```\n",
    "ventas@email.com\n",
    "```"
   ]
  },
  {
   "cell_type": "code",
   "execution_count": null,
   "metadata": {},
   "outputs": [],
   "source": [
    "plantilla = '*@email.com'"
   ]
  },
  {
   "cell_type": "code",
   "execution_count": null,
   "metadata": {},
   "outputs": [],
   "source": []
  },
  {
   "cell_type": "markdown",
   "metadata": {},
   "source": [
    "## Método Format"
   ]
  },
  {
   "cell_type": "markdown",
   "metadata": {},
   "source": [
    "Otro método importante es el `.format()`. Este nos permite usar una cadena como plantilla dejando espacios marcados con llaves para despues ser rellenados con este método."
   ]
  },
  {
   "cell_type": "code",
   "execution_count": 7,
   "metadata": {},
   "outputs": [
    {
     "name": "stdout",
     "output_type": "stream",
     "text": [
      "/home/user-301/proyectos/analisis-rentabilidad-productos\n"
     ]
    }
   ],
   "source": [
    "usuario = 'user-301'\n",
    "proyecto = 'analisis-rentabilidad-productos'\n",
    "\n",
    "ruta = '/home/{}/proyectos/{}'    # Esta cadena se usa como plantilla\n",
    "\n",
    "\n",
    "print(ruta.format(usuario, proyecto))"
   ]
  },
  {
   "cell_type": "markdown",
   "metadata": {},
   "source": [
    "***Ejercicios***"
   ]
  },
  {
   "cell_type": "markdown",
   "metadata": {},
   "source": [
    "Crea dos cadenas, una con tu nombre y otra con tu apellido y asignalas a las variables `nombre` y `apellido`. Usa estas variables para contestar los siguientes ejercicios."
   ]
  },
  {
   "cell_type": "code",
   "execution_count": null,
   "metadata": {},
   "outputs": [],
   "source": []
  },
  {
   "cell_type": "markdown",
   "metadata": {},
   "source": [
    "Crea la variable `plantilla_bienvenida` dejando un hueco marcado por `{}` en donde va el nombre. Rellena el hueco usando el metodo `format()` y la variable `nombre` para generar la siguiente salida:  \n",
    "```\n",
    "Hola Mario,\n",
    "\n",
    "¡Bienvenido a casa!\n",
    "```"
   ]
  },
  {
   "cell_type": "code",
   "execution_count": null,
   "metadata": {},
   "outputs": [],
   "source": []
  },
  {
   "cell_type": "markdown",
   "metadata": {},
   "source": [
    "Crea la variable `plantilla_correo` dejando un hueco marcado por `{}` en donde va el nombre y el apellido. Rellena los huecos usando el metodo `format()` y las variables `nombre` y `apellido` para generar la siguiente salida:  \n",
    "```\n",
    "Hola Mario,\n",
    "\n",
    "Tu cuenta del sistema es: mario_perez\n",
    "```"
   ]
  },
  {
   "cell_type": "code",
   "execution_count": null,
   "metadata": {},
   "outputs": [],
   "source": []
  },
  {
   "cell_type": "markdown",
   "metadata": {},
   "source": [
    "## Listas"
   ]
  },
  {
   "cell_type": "markdown",
   "metadata": {},
   "source": [
    "Las listas son una de las estructuras de datos más utilizadas en Python. Las listas nos sirven para almacenar datos en el orden que fueron ingresados. A diferencia de los arreglos que existen en otros lenguajes, las listas permiten almacenrar elementos de distintos tipos.  \n",
    "\n",
    "Para generar una lista utilizamos los corchetes `[` y `]`. Los elementos van separados dentro de la misma por comas."
   ]
  },
  {
   "cell_type": "code",
   "execution_count": 8,
   "metadata": {},
   "outputs": [],
   "source": [
    "lista_numeros = [1, 2, 3, 4]\n",
    "\n",
    "lista_mixta = [1, 'dos', [-1, -2, -3]]"
   ]
  },
  {
   "cell_type": "markdown",
   "metadata": {},
   "source": [
    "***Ejercicios***"
   ]
  },
  {
   "cell_type": "markdown",
   "metadata": {},
   "source": [
    "Crea una lista con los números del 1 al 10, asignala a la variable `numeros`"
   ]
  },
  {
   "cell_type": "code",
   "execution_count": null,
   "metadata": {},
   "outputs": [],
   "source": []
  },
  {
   "cell_type": "markdown",
   "metadata": {},
   "source": [
    "Crea una lista con las letras letras de la \"a\" a la \"e\", asignala a la variable `letras`."
   ]
  },
  {
   "cell_type": "code",
   "execution_count": null,
   "metadata": {},
   "outputs": [],
   "source": []
  },
  {
   "cell_type": "markdown",
   "metadata": {},
   "source": [
    "### Operaciones con Listas"
   ]
  },
  {
   "cell_type": "markdown",
   "metadata": {},
   "source": [
    "El operador de suma cuando se utiliza con dos listas genera una tercera que inclule los elementos de ambas."
   ]
  },
  {
   "cell_type": "code",
   "execution_count": 9,
   "metadata": {},
   "outputs": [
    {
     "data": {
      "text/plain": [
       "[1, 2, 3, 4, 1, 'dos', [-1, -2, -3]]"
      ]
     },
     "execution_count": 9,
     "metadata": {},
     "output_type": "execute_result"
    }
   ],
   "source": [
    "lista_numeros + lista_mixta"
   ]
  },
  {
   "cell_type": "markdown",
   "metadata": {},
   "source": [
    "El operador de multiplicación genera una lista donde los elementos de la primera se repiten \"n\" número de veces."
   ]
  },
  {
   "cell_type": "code",
   "execution_count": 10,
   "metadata": {},
   "outputs": [
    {
     "data": {
      "text/plain": [
       "[1, 2, 3, 4, 1, 2, 3, 4, 1, 2, 3, 4]"
      ]
     },
     "execution_count": 10,
     "metadata": {},
     "output_type": "execute_result"
    }
   ],
   "source": [
    "lista_numeros * 3"
   ]
  },
  {
   "cell_type": "markdown",
   "metadata": {},
   "source": [
    "***Ejercicios***"
   ]
  },
  {
   "cell_type": "markdown",
   "metadata": {},
   "source": [
    "Crea una lista que contenga todos los elementos de la lista `numeros` y `letras`."
   ]
  },
  {
   "cell_type": "code",
   "execution_count": null,
   "metadata": {},
   "outputs": [],
   "source": []
  },
  {
   "cell_type": "markdown",
   "metadata": {},
   "source": [
    "Crea una lista que contenga tres veces los elementos de la lista `letras`."
   ]
  },
  {
   "cell_type": "code",
   "execution_count": null,
   "metadata": {},
   "outputs": [],
   "source": []
  },
  {
   "cell_type": "markdown",
   "metadata": {},
   "source": [
    "### Metodos importantes"
   ]
  },
  {
   "cell_type": "markdown",
   "metadata": {},
   "source": [
    "El método `.append()` agrega un elemento al final de la lista."
   ]
  },
  {
   "cell_type": "code",
   "execution_count": 11,
   "metadata": {},
   "outputs": [
    {
     "name": "stdout",
     "output_type": "stream",
     "text": [
      "[1, 2, 3, 'x']\n"
     ]
    }
   ],
   "source": [
    "lista = [1, 2, 3]\n",
    "\n",
    "lista.append('x')\n",
    "\n",
    "print(lista)"
   ]
  },
  {
   "cell_type": "markdown",
   "metadata": {},
   "source": [
    "El método `.remove()` elimina un elemento de la lista."
   ]
  },
  {
   "cell_type": "code",
   "execution_count": 12,
   "metadata": {},
   "outputs": [
    {
     "name": "stdout",
     "output_type": "stream",
     "text": [
      "[1, 3]\n"
     ]
    }
   ],
   "source": [
    "lista = [1, 2, 3]\n",
    "\n",
    "lista.remove(2)\n",
    "\n",
    "print(lista)"
   ]
  },
  {
   "cell_type": "markdown",
   "metadata": {},
   "source": [
    "El método `.extend()` no debe de ser confundido con el `.append()`. Este tambien agrega elementos a una lista pero, a diferencia del anterior, toma un objeto iterable (objetos con caracteristicas similares a las de una lista) y agrega los elementos que esta contiene a la lista original."
   ]
  },
  {
   "cell_type": "code",
   "execution_count": 13,
   "metadata": {},
   "outputs": [
    {
     "name": "stdout",
     "output_type": "stream",
     "text": [
      "[1, 2, 3, 4, 5, 6]\n"
     ]
    }
   ],
   "source": [
    "lista = [1, 2, 3]\n",
    "\n",
    "lista.extend([4, 5, 6])\n",
    "\n",
    "print(lista)"
   ]
  },
  {
   "cell_type": "markdown",
   "metadata": {},
   "source": [
    "El método `.pop()` remueve el último elemento de la lista y además regresa el valor del elemento que fue eliminado para poderlo usar más adelante."
   ]
  },
  {
   "cell_type": "code",
   "execution_count": 14,
   "metadata": {},
   "outputs": [
    {
     "name": "stdout",
     "output_type": "stream",
     "text": [
      "[1, 2]\n",
      "Elemento eliminado: 3\n"
     ]
    }
   ],
   "source": [
    "lista = [1, 2, 3]\n",
    "\n",
    "elemento_eliminado = lista.pop()\n",
    "\n",
    "print(lista)\n",
    "print('Elemento eliminado:', elemento_eliminado)"
   ]
  },
  {
   "cell_type": "markdown",
   "metadata": {},
   "source": [
    "El mtodo `.sort()` nos ayuda a ordenar los elementos dentro de una lista."
   ]
  },
  {
   "cell_type": "code",
   "execution_count": 15,
   "metadata": {},
   "outputs": [
    {
     "name": "stdout",
     "output_type": "stream",
     "text": [
      "[1, 2, 3]\n"
     ]
    }
   ],
   "source": [
    "lista = [3, 1, 2]\n",
    "\n",
    "lista.sort()\n",
    "\n",
    "print(lista)"
   ]
  },
  {
   "cell_type": "markdown",
   "metadata": {},
   "source": [
    "***Ejercicios***"
   ]
  },
  {
   "cell_type": "markdown",
   "metadata": {},
   "source": [
    "Genera una lista de n número tacos que te gustaría comer al final de este curso y guardala en una variable llamada `mis_tacos`."
   ]
  },
  {
   "cell_type": "code",
   "execution_count": null,
   "metadata": {},
   "outputs": [],
   "source": []
  },
  {
   "cell_type": "markdown",
   "metadata": {},
   "source": [
    "Genera una lista más con algunos tacos más que te gustaría invitarle al inscructor. Llamala `sus_tacos`"
   ]
  },
  {
   "cell_type": "code",
   "execution_count": null,
   "metadata": {},
   "outputs": [],
   "source": []
  },
  {
   "cell_type": "markdown",
   "metadata": {},
   "source": [
    "Agrega un taco de 'chicharron' a la lista `mis_tacos`."
   ]
  },
  {
   "cell_type": "code",
   "execution_count": null,
   "metadata": {},
   "outputs": [],
   "source": []
  },
  {
   "cell_type": "markdown",
   "metadata": {},
   "source": [
    "Para pedir los tacos el taquero te pide guardarlos todos en una misma lista y ordenarla. Guarda esta lista como `orden_tacos`."
   ]
  },
  {
   "cell_type": "code",
   "execution_count": null,
   "metadata": {},
   "outputs": [],
   "source": []
  },
  {
   "cell_type": "markdown",
   "metadata": {},
   "source": [
    "## Tuplas"
   ]
  },
  {
   "cell_type": "markdown",
   "metadata": {},
   "source": [
    "Las tuplas son una estructura de datos muy similar a las listas. Tambien pueden almacenar elementos de distintos tipos.  \n",
    "\n",
    "A diferencia de las listas, las tuplas no son objetos mutables, es decir, no se pueden modificar los elementos que contienen debido a que el orden en que están almacenados va ligado con su significado. Un ejemplo muy concido de datos que pueden ser almacenados en una tupla son las coordenadas geográficas, ya que en ellas el significado de los elementos va ligado a su posición.\n",
    "\n",
    "Para generar una tupla, usamos una sintaxis similr a la de las listas, pero en lugar de usar corchetes, usamos paréntesis ( `\"(\"` y `\")\"`).\n",
    "\n",
    "Ejemplo:"
   ]
  },
  {
   "cell_type": "code",
   "execution_count": 60,
   "metadata": {},
   "outputs": [
    {
     "name": "stdout",
     "output_type": "stream",
     "text": [
      "Ubicación de la ciudad de Monterrey\n",
      "Latitud:\t 25.675723\n",
      "Longitud:\t -100.346093\n"
     ]
    }
   ],
   "source": [
    "monterrey = (25.675723, -100.346093)\n",
    "\n",
    "print ('Ubicación de la ciudad de Monterrey')\n",
    "print ('Latitud:\\t', monterrey[0])\n",
    "print ('Longitud:\\t', monterrey[1])"
   ]
  },
  {
   "cell_type": "markdown",
   "metadata": {},
   "source": [
    "En este ejemplo, no tendría sentido cambiar alguno de estos valores ya que el hacerlo haría que la ubicación no correspondiera con la de la ciudad."
   ]
  },
  {
   "cell_type": "markdown",
   "metadata": {},
   "source": [
    "***Ejercicios***"
   ]
  },
  {
   "cell_type": "markdown",
   "metadata": {},
   "source": [
    "Suma la tupla `monterrey` del ejemplo consigo misma."
   ]
  },
  {
   "cell_type": "code",
   "execution_count": null,
   "metadata": {},
   "outputs": [],
   "source": []
  },
  {
   "cell_type": "markdown",
   "metadata": {},
   "source": [
    "Multiplica la tupla `monterrey` del ejemplo por tres."
   ]
  },
  {
   "cell_type": "code",
   "execution_count": null,
   "metadata": {},
   "outputs": [],
   "source": []
  },
  {
   "cell_type": "markdown",
   "metadata": {},
   "source": [
    "## Índices y cortes"
   ]
  },
  {
   "cell_type": "markdown",
   "metadata": {},
   "source": [
    "Para acceder a los elementos de un objeto iterable, coo una lista o una tupla, podemos hacer referencia a si índice usando corchetes despues del elemento usando esta sintaxis: `objeto_iterable[indice]`. Al hacer esto, python nos regresará el elemento que se encuentra en la posición indicada.\n",
    "\n",
    "Nota: En python los indices empiezan en cero."
   ]
  },
  {
   "cell_type": "code",
   "execution_count": 17,
   "metadata": {},
   "outputs": [
    {
     "name": "stdout",
     "output_type": "stream",
     "text": [
      "uno\n"
     ]
    }
   ],
   "source": [
    "lista = ['cero', 'uno', 'dos', 'tres']\n",
    "\n",
    "print(lista[1])"
   ]
  },
  {
   "cell_type": "markdown",
   "metadata": {},
   "source": [
    "Tambien podemos usar índices negativos para acceder a los valores contando a partir del final (el último elemento tiene el indice -1)."
   ]
  },
  {
   "cell_type": "code",
   "execution_count": 18,
   "metadata": {},
   "outputs": [
    {
     "name": "stdout",
     "output_type": "stream",
     "text": [
      "tres\n"
     ]
    }
   ],
   "source": [
    "lista = ['cero', 'uno', 'dos', 'tres']\n",
    "\n",
    "print(lista[-1])"
   ]
  },
  {
   "cell_type": "markdown",
   "metadata": {},
   "source": [
    "Ademas de acceder elementos individuales, va a haber ocasiones en las que queremos obtener una lista (u objeto iterable) que contenga solo una fracción de los elementos del objeto original. En este caso podemos hacer uso de los cortes usando corchetes con la siguiente sintaxis: `objeto_iterable[inicio:fin]`  \n",
    "\n",
    "Nota: el elemento con el indice correspondiente al `inicio` será incluido en la lista resultante, pero el que tiene el indice correspondiente a `fin` no."
   ]
  },
  {
   "cell_type": "code",
   "execution_count": 19,
   "metadata": {},
   "outputs": [
    {
     "name": "stdout",
     "output_type": "stream",
     "text": [
      "['uno', 'dos']\n"
     ]
    }
   ],
   "source": [
    "lista = ['cero', 'uno', 'dos', 'tres']\n",
    "\n",
    "print(lista[1:3])"
   ]
  },
  {
   "cell_type": "markdown",
   "metadata": {},
   "source": [
    "Tambien podemos omitir cualquiera de los dos valores para indicar que deseamos incluir los elementos desde el primero (omitiendo el valor de `inicio`) o hasta el final (omitiendo el valor de `fin`)"
   ]
  },
  {
   "cell_type": "code",
   "execution_count": 20,
   "metadata": {},
   "outputs": [
    {
     "name": "stdout",
     "output_type": "stream",
     "text": [
      "['uno', 'dos', 'tres']\n"
     ]
    }
   ],
   "source": [
    "lista = ['cero', 'uno', 'dos', 'tres']\n",
    "\n",
    "print(lista[1:])"
   ]
  },
  {
   "cell_type": "code",
   "execution_count": 21,
   "metadata": {},
   "outputs": [
    {
     "name": "stdout",
     "output_type": "stream",
     "text": [
      "['cero', 'uno']\n"
     ]
    }
   ],
   "source": [
    "lista = ['cero', 'uno', 'dos', 'tres']\n",
    "\n",
    "print(lista[0:2])"
   ]
  },
  {
   "cell_type": "markdown",
   "metadata": {},
   "source": [
    "***Ejercicios***"
   ]
  },
  {
   "cell_type": "code",
   "execution_count": 18,
   "metadata": {},
   "outputs": [
    {
     "data": {
      "text/plain": [
       "['lun', 'mar', 'mie', 'jue', 'vie', 'sab', 'dom']"
      ]
     },
     "execution_count": 18,
     "metadata": {},
     "output_type": "execute_result"
    }
   ],
   "source": [
    "dias = \"lun mar mie jue vie sab dom\".split()\n",
    "dias"
   ]
  },
  {
   "cell_type": "markdown",
   "metadata": {},
   "source": [
    "Selecciona el segundo elemento de la lista"
   ]
  },
  {
   "cell_type": "code",
   "execution_count": null,
   "metadata": {},
   "outputs": [],
   "source": []
  },
  {
   "cell_type": "markdown",
   "metadata": {},
   "source": [
    "Selecciona el último elemento e la lista"
   ]
  },
  {
   "cell_type": "code",
   "execution_count": null,
   "metadata": {},
   "outputs": [],
   "source": []
  },
  {
   "cell_type": "markdown",
   "metadata": {},
   "source": [
    "Crea un corte con los primeros 5 elementos de la lista"
   ]
  },
  {
   "cell_type": "code",
   "execution_count": null,
   "metadata": {},
   "outputs": [],
   "source": []
  },
  {
   "cell_type": "markdown",
   "metadata": {},
   "source": [
    "Crea un corte con los últimos 2 elementos de la lista"
   ]
  },
  {
   "cell_type": "code",
   "execution_count": null,
   "metadata": {},
   "outputs": [],
   "source": []
  },
  {
   "cell_type": "markdown",
   "metadata": {},
   "source": [
    "Crea el siguiente corte:\n",
    "```python\n",
    "['jue', 'vie', 'sab']\n",
    "```"
   ]
  },
  {
   "cell_type": "code",
   "execution_count": null,
   "metadata": {},
   "outputs": [],
   "source": []
  },
  {
   "cell_type": "markdown",
   "metadata": {},
   "source": [
    "Crea el siguiente corte:\n",
    "```python\n",
    "['lun', 'mie', 'vie']\n",
    "```\n",
    "Nota: Para este ejercicio pudiera ser util explorar lo que hace la sintaxis `lista[inicio:fin:numero_misterioso]`"
   ]
  },
  {
   "cell_type": "code",
   "execution_count": null,
   "metadata": {},
   "outputs": [],
   "source": []
  }
 ],
 "metadata": {
  "kernelspec": {
   "display_name": "Python 3",
   "language": "python",
   "name": "python3"
  },
  "language_info": {
   "codemirror_mode": {
    "name": "ipython",
    "version": 3
   },
   "file_extension": ".py",
   "mimetype": "text/x-python",
   "name": "python",
   "nbconvert_exporter": "python",
   "pygments_lexer": "ipython3",
   "version": "3.6.7"
  }
 },
 "nbformat": 4,
 "nbformat_minor": 2
}
